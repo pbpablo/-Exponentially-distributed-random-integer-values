{
 "cells": [
  {
   "cell_type": "markdown",
   "id": "e682c6ba",
   "metadata": {},
   "source": [
    "# Exponentially distributed random integer values\n"
   ]
  },
  {
   "cell_type": "code",
   "execution_count": 11,
   "id": "8f39b8b6",
   "metadata": {},
   "outputs": [
    {
     "data": {
      "image/png": "[encoded data removed]",
      "text/plain": [
       "<Figure size 432x288 with 1 Axes>"
      ]
     },
     "metadata": {
      "needs_background": "light"
     },
     "output_type": "display_data"
    }
   ],
   "source": [
    "from numpy import random\n",
    "import numpy as np\n",
    "import matplotlib.pyplot as plt\n",
    "import seaborn as sns\n",
    "\n",
    "mean = 0.08 #Lambda=(1/mean=12.5)\n",
    "expo_graph = np.random.exponential(mean, size = 1000) #Draw samples from an exponential distribution.\n",
    "fig, ax = plt.subplots(1, 1)\n",
    "exponential= ax.hist(expo_graph, bins=100) #bins defines the number of equal-width bins in the range\n",
    "plt.show()"
   ]
  },
  {
   "cell_type": "code",
   "execution_count": null,
   "id": "f399f470",
   "metadata": {},
   "outputs": [],
   "source": []
  }
 ],
 "metadata": {
  "kernelspec": {
   "display_name": "Python 3",
   "language": "python",
   "name": "python3"
  },
  "language_info": {
   "codemirror_mode": {
    "name": "ipython",
    "version": 3
   },
   "file_extension": ".py",
   "mimetype": "text/x-python",
   "name": "python",
   "nbconvert_exporter": "python",
   "pygments_lexer": "ipython3",
   "version": "3.8.8"
  }
 },
 "nbformat": 4,
 "nbformat_minor": 5
}
